{
 "cells": [
  {
   "cell_type": "code",
   "execution_count": 1,
   "metadata": {},
   "outputs": [
    {
     "name": "stdout",
     "output_type": "stream",
     "text": [
      "1.3.0\n"
     ]
    }
   ],
   "source": [
    "import tensorflow as tf\n",
    "import numpy as np\n",
    "import pandas as pd\n",
    "from matplotlib import pyplot as plt\n",
    "%matplotlib inline\n",
    "\n",
    "print(tf.__version__)"
   ]
  },
  {
   "cell_type": "markdown",
   "metadata": {},
   "source": [
    "## Prediction / regression pipeline\n",
    "\n",
    "Here we try to predict y(t) based on x(s <= t). y(t) may be x(t+1)."
   ]
  },
  {
   "cell_type": "code",
   "execution_count": 2,
   "metadata": {
    "collapsed": true
   },
   "outputs": [],
   "source": [
    "batch_size = 128\n",
    "d_x = 1\n",
    "d_y = 1"
   ]
  },
  {
   "cell_type": "markdown",
   "metadata": {},
   "source": [
    "## Making room for the sequences\n",
    "\n",
    "Let's create placeholders for our input data x and output data y."
   ]
  },
  {
   "cell_type": "code",
   "execution_count": 3,
   "metadata": {
    "collapsed": true
   },
   "outputs": [],
   "source": [
    "# We do not assume we know the sequence length yet\n",
    "\n",
    "x_seq_ph = tf.placeholder(shape=(batch_size, None, d_x), dtype=tf.float32)\n",
    "y_seq_ph = tf.placeholder(shape=(batch_size, None, d_y), dtype=tf.float32)"
   ]
  },
  {
   "cell_type": "markdown",
   "metadata": {},
   "source": [
    "## Preparing the network's modules\n",
    "\n",
    "Let's define a convolution layer"
   ]
  },
  {
   "cell_type": "code",
   "execution_count": 4,
   "metadata": {
    "collapsed": true
   },
   "outputs": [],
   "source": [
    "def convolution_layer(input_seq, n_dims_in, n_dims_out, width, \n",
    "                      dilation=1, causal=True):\n",
    "    conv_kernel = tf.get_variable(\n",
    "        name=\"kernel\",\n",
    "        shape=[width, n_dims_in, n_dims_out], \n",
    "        dtype=tf.float32,\n",
    "        initializer=tf.truncated_normal_initializer())\n",
    "    \n",
    "    if causal:\n",
    "        offset = dilation * (width - 1)\n",
    "        input_seq = tf.pad(input_seq, [[0, 0], [offset, 0], [0, 0]])\n",
    "    \n",
    "    conv_output = tf.nn.convolution(\n",
    "        input=input_seq,\n",
    "        filter=conv_kernel,\n",
    "        padding=\"VALID\" if causal else \"SAME\",\n",
    "        strides=None,\n",
    "        dilation_rate=[dilation]\n",
    "    )\n",
    "    \n",
    "    return conv_output"
   ]
  },
  {
   "cell_type": "markdown",
   "metadata": {},
   "source": [
    "## A simple auto-regressive model\n",
    "\n",
    "Let's build a AR(p) model with tensorflow"
   ]
  },
  {
   "cell_type": "code",
   "execution_count": 5,
   "metadata": {
    "collapsed": true
   },
   "outputs": [],
   "source": [
    "p = 3\n",
    "\n",
    "with tf.variable_scope(\"AR_p_model\"):\n",
    "    y_predicted = convolution_layer(x_seq_ph, d_x, d_y, width=p)"
   ]
  },
  {
   "cell_type": "code",
   "execution_count": 6,
   "metadata": {
    "collapsed": true
   },
   "outputs": [],
   "source": [
    "loss = tf.reduce_sum(tf.nn.l2_loss(y_predicted - y_seq_ph))"
   ]
  },
  {
   "cell_type": "code",
   "execution_count": 7,
   "metadata": {
    "collapsed": true
   },
   "outputs": [],
   "source": [
    "learning_rate = 1e-3\n",
    "\n",
    "optimizer = tf.train.RMSPropOptimizer(learning_rate=learning_rate).minimize(loss)"
   ]
  },
  {
   "cell_type": "markdown",
   "metadata": {},
   "source": [
    "## Pathological example with white noise"
   ]
  },
  {
   "cell_type": "code",
   "execution_count": 8,
   "metadata": {
    "collapsed": true
   },
   "outputs": [],
   "source": [
    "def generate_samples(batch_size, sequence_length, n_dims):\n",
    "    return np.random.normal(0.0, 1.0, (batch_size, sequence_length, n_dims))"
   ]
  },
  {
   "cell_type": "markdown",
   "metadata": {},
   "source": [
    "## We ask to predict the next value of a white noise process, this should not work with a causal convolution and yet it does here"
   ]
  },
  {
   "cell_type": "code",
   "execution_count": 9,
   "metadata": {},
   "outputs": [
    {
     "name": "stdout",
     "output_type": "stream",
     "text": [
      "27975.9\n",
      "23348.1\n",
      "19293.6\n",
      "16374.1\n",
      "12731.2\n",
      "10176.5\n",
      "7988.16\n",
      "5778.21\n",
      "4018.98\n",
      "2670.28\n",
      "1567.92\n",
      "752.296\n",
      "284.448\n",
      "74.1736\n",
      "74.425\n",
      "67.5557\n",
      "54.1787\n",
      "62.959\n",
      "69.8646\n",
      "67.4563\n",
      "60.4185\n",
      "80.8039\n",
      "62.5752\n",
      "72.5242\n",
      "78.4253\n",
      "61.9947\n",
      "61.4307\n",
      "63.9765\n",
      "62.1331\n",
      "62.5815\n",
      "73.2415\n",
      "65.2774\n",
      "59.7575\n",
      "77.9334\n",
      "60.1546\n",
      "52.9624\n",
      "66.7775\n",
      "48.8745\n",
      "67.4909\n",
      "76.1326\n",
      "66.9834\n",
      "50.4242\n",
      "61.1566\n",
      "69.9999\n",
      "57.4369\n",
      "50.4154\n",
      "55.4814\n",
      "56.5464\n",
      "47.3577\n",
      "87.6074\n",
      "83.2386\n",
      "74.398\n",
      "59.0479\n",
      "61.2402\n",
      "59.0164\n",
      "66.0271\n",
      "94.2164\n",
      "66.8822\n",
      "70.6442\n",
      "52.7133\n",
      "63.7481\n",
      "57.9083\n",
      "67.2843\n",
      "62.5916\n",
      "64.3453\n",
      "63.3576\n",
      "54.5475\n",
      "56.4234\n",
      "73.9698\n",
      "54.6977\n",
      "64.9266\n",
      "70.1\n",
      "72.577\n",
      "65.5677\n",
      "67.6958\n",
      "58.6715\n",
      "62.729\n",
      "54.3546\n",
      "58.0145\n",
      "48.2376\n",
      "64.4381\n",
      "65.8576\n",
      "50.8852\n",
      "66.6458\n",
      "70.3768\n",
      "65.219\n",
      "68.2705\n",
      "65.6089\n",
      "63.6481\n",
      "59.2559\n",
      "55.0073\n",
      "64.9017\n",
      "66.5498\n",
      "62.5383\n",
      "61.5401\n",
      "59.7134\n",
      "69.5807\n",
      "48.1391\n",
      "62.1534\n",
      "72.4907\n"
     ]
    }
   ],
   "source": [
    "n_steps = int(1e4)\n",
    "sequence_length = 128\n",
    "\n",
    "session = tf.Session()\n",
    "\n",
    "session.run(tf.global_variables_initializer())\n",
    "\n",
    "for step in xrange(n_steps):\n",
    "    x_seq = generate_samples(batch_size, sequence_length, 1)\n",
    "    y_seq = x_seq + np.random.normal(0.0, 0.01, (batch_size, sequence_length, d_x))\n",
    "    \n",
    "    loss_eval, _ = session.run((loss, optimizer), \n",
    "                               feed_dict={x_seq_ph: x_seq[:,1:],\n",
    "                                          y_seq_ph: y_seq[:,:-1]})\n",
    "\n",
    "    if not (step % 100): print loss_eval"
   ]
  },
  {
   "cell_type": "code",
   "execution_count": 10,
   "metadata": {},
   "outputs": [
    {
     "name": "stdout",
     "output_type": "stream",
     "text": [
      "[u'AR_p_model/kernel:0', u'AR_p_model/kernel/RMSProp:0', u'AR_p_model/kernel/RMSProp_1:0']\n"
     ]
    }
   ],
   "source": [
    "variables = tf.get_collection(tf.GraphKeys.GLOBAL_VARIABLES, scope=\"AR_p_model\")\n",
    "\n",
    "print([v.name for v in variables])\n",
    "kernel = [v for v in variables if \"kernel\" in v.name.split('/')[-1]][0]\n",
    "\n",
    "kernel_eval = session.run(kernel)"
   ]
  },
  {
   "cell_type": "code",
   "execution_count": 11,
   "metadata": {},
   "outputs": [
    {
     "data": {
      "image/png": "[encoded data removed]",
      "text/plain": [
       "<matplotlib.figure.Figure at 0x11a442f50>"
      ]
     },
     "metadata": {},
     "output_type": "display_data"
    }
   ],
   "source": [
    "plt.plot(kernel_eval[:,0,0])\n",
    "plt.title(\"Trained non causal kernel\")\n",
    "plt.ylabel(\"Kernel value\")\n",
    "plt.xlabel(\"Kernel component\")\n",
    "plt.show()"
   ]
  },
  {
   "cell_type": "code",
   "execution_count": null,
   "metadata": {
    "collapsed": true
   },
   "outputs": [],
   "source": []
  }
 ],
 "metadata": {
  "kernelspec": {
   "display_name": "Python 2",
   "language": "python",
   "name": "python2"
  },
  "language_info": {
   "codemirror_mode": {
    "name": "ipython",
    "version": 2
   },
   "file_extension": ".py",
   "mimetype": "text/x-python",
   "name": "python",
   "nbconvert_exporter": "python",
   "pygments_lexer": "ipython2",
   "version": "2.7.9"
  }
 },
 "nbformat": 4,
 "nbformat_minor": 1
}
