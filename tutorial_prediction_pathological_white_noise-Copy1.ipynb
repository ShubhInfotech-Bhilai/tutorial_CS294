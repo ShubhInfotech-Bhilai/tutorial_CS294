{
 "cells": [
  {
   "cell_type": "code",
   "execution_count": 1,
   "metadata": {},
   "outputs": [
    {
     "name": "stdout",
     "output_type": "stream",
     "text": [
      "1.3.0\n"
     ]
    }
   ],
   "source": [
    "import tensorflow as tf\n",
    "import numpy as np\n",
    "import pandas as pd\n",
    "from matplotlib import pyplot as plt\n",
    "%matplotlib inline\n",
    "\n",
    "print(tf.__version__)"
   ]
  },
  {
   "cell_type": "markdown",
   "metadata": {},
   "source": [
    "## Prediction / regression pipeline\n",
    "\n",
    "Here we try to predict y(t) based on x(s <= t). y(t) may be x(t+1)."
   ]
  },
  {
   "cell_type": "code",
   "execution_count": 2,
   "metadata": {
    "collapsed": true
   },
   "outputs": [],
   "source": [
    "batch_size = 128\n",
    "d_x = 1\n",
    "d_y = 1"
   ]
  },
  {
   "cell_type": "markdown",
   "metadata": {},
   "source": [
    "## Making room for the sequences\n",
    "\n",
    "Let's create placeholders for our input data x and output data y."
   ]
  },
  {
   "cell_type": "code",
   "execution_count": 3,
   "metadata": {
    "collapsed": true
   },
   "outputs": [],
   "source": [
    "# We do not assume we know the sequence length yet\n",
    "\n",
    "x_seq_ph = tf.placeholder(shape=(batch_size, None, d_x), dtype=tf.float32)\n",
    "y_seq_ph = tf.placeholder(shape=(batch_size, None, d_y), dtype=tf.float32)"
   ]
  },
  {
   "cell_type": "markdown",
   "metadata": {},
   "source": [
    "## Preparing the network's modules\n",
    "\n",
    "Let's define a convolution layer"
   ]
  },
  {
   "cell_type": "code",
   "execution_count": 4,
   "metadata": {
    "collapsed": true
   },
   "outputs": [],
   "source": [
    "def convolution_layer(input_seq, n_dims_in, n_dims_out, width, \n",
    "                      dilation=1):\n",
    "    conv_kernel = tf.get_variable(\n",
    "        name=\"kernel\",\n",
    "        shape=[width, n_dims_in, n_dims_out], \n",
    "        dtype=tf.float32,\n",
    "        initializer=tf.truncated_normal_initializer())\n",
    "    conv_output = tf.nn.convolution(\n",
    "        input=input_seq,\n",
    "        filter=conv_kernel,\n",
    "        padding=\"SAME\",\n",
    "        strides=None,\n",
    "        dilation_rate=[dilation]\n",
    "    )\n",
    "    return conv_output"
   ]
  },
  {
   "cell_type": "markdown",
   "metadata": {},
   "source": [
    "## A simple auto-regressive model\n",
    "\n",
    "Let's build a AR(p) model with tensorflow"
   ]
  },
  {
   "cell_type": "code",
   "execution_count": 5,
   "metadata": {
    "collapsed": true
   },
   "outputs": [],
   "source": [
    "p = 3\n",
    "\n",
    "with tf.variable_scope(\"AR_p_model\"):\n",
    "    y_predicted = convolution_layer(x_seq_ph, d_x, d_y, width=p)"
   ]
  },
  {
   "cell_type": "code",
   "execution_count": 6,
   "metadata": {
    "collapsed": true
   },
   "outputs": [],
   "source": [
    "loss = tf.reduce_sum(tf.nn.l2_loss(y_predicted - y_seq_ph))"
   ]
  },
  {
   "cell_type": "code",
   "execution_count": 7,
   "metadata": {
    "collapsed": true
   },
   "outputs": [],
   "source": [
    "learning_rate = 1e-3\n",
    "\n",
    "optimizer = tf.train.RMSPropOptimizer(learning_rate=learning_rate).minimize(loss)"
   ]
  },
  {
   "cell_type": "markdown",
   "metadata": {},
   "source": [
    "## Pathological example with white noise"
   ]
  },
  {
   "cell_type": "code",
   "execution_count": 8,
   "metadata": {
    "collapsed": true
   },
   "outputs": [],
   "source": [
    "def generate_samples(batch_size, sequence_length, n_dims):\n",
    "    return np.random.normal(0.0, 1.0, (batch_size, sequence_length, n_dims))"
   ]
  },
  {
   "cell_type": "markdown",
   "metadata": {},
   "source": [
    "## We ask to predict the next value of a white noise process, this should not work with a causal convolution and yet it does here"
   ]
  },
  {
   "cell_type": "code",
   "execution_count": 9,
   "metadata": {},
   "outputs": [
    {
     "name": "stdout",
     "output_type": "stream",
     "text": [
      "79385.8\n",
      "71092.7\n",
      "64978.8\n",
      "58998.9\n",
      "54293.8\n",
      "49475.7\n",
      "44630.2\n",
      "41053.5\n",
      "36824.9\n",
      "33193.7\n",
      "29416.5\n",
      "27577.5\n",
      "24059.2\n",
      "21075.4\n",
      "18855.3\n",
      "16548.2\n",
      "14410.6\n",
      "12136.9\n",
      "10405.9\n",
      "8580.73\n",
      "7093.55\n",
      "5476.04\n",
      "4365.98\n",
      "3282.61\n",
      "2346.64\n",
      "1543.82\n",
      "956.996\n",
      "493.608\n",
      "214.569\n",
      "69.5313\n",
      "64.1003\n",
      "53.0513\n",
      "50.2537\n",
      "63.9358\n",
      "56.1289\n",
      "52.0867\n",
      "82.2691\n",
      "75.3517\n",
      "46.8064\n",
      "60.2438\n",
      "82.043\n",
      "59.7848\n",
      "66.6814\n",
      "67.3402\n",
      "56.9864\n",
      "74.4235\n",
      "68.1859\n",
      "60.1783\n",
      "59.5596\n",
      "55.7858\n",
      "62.861\n",
      "46.5053\n",
      "59.886\n",
      "53.1552\n",
      "63.9923\n",
      "63.5245\n",
      "58.9556\n",
      "50.3887\n",
      "67.7872\n",
      "62.7261\n",
      "65.8328\n",
      "62.5016\n",
      "58.1204\n",
      "58.9583\n",
      "58.126\n",
      "86.3002\n",
      "57.7596\n",
      "64.3403\n",
      "64.3558\n",
      "67.5506\n",
      "51.8623\n",
      "62.9604\n",
      "70.25\n",
      "57.7505\n",
      "81.1058\n",
      "80.9933\n",
      "66.3198\n",
      "60.8659\n",
      "65.3493\n",
      "45.7633\n",
      "70.9489\n",
      "52.5485\n",
      "64.233\n",
      "82.6858\n",
      "56.1371\n",
      "55.5857\n",
      "51.389\n",
      "55.6646\n",
      "68.1088\n",
      "75.2166\n",
      "61.445\n",
      "74.103\n",
      "79.6774\n",
      "63.7577\n",
      "56.6273\n",
      "63.4769\n",
      "51.2774\n",
      "75.135\n",
      "77.5927\n",
      "70.5207\n"
     ]
    }
   ],
   "source": [
    "n_steps = int(1e4)\n",
    "sequence_length = 128\n",
    "\n",
    "session = tf.Session()\n",
    "\n",
    "session.run(tf.global_variables_initializer())\n",
    "\n",
    "for step in xrange(n_steps):\n",
    "    x_seq = generate_samples(batch_size, sequence_length + 1, d_x)\n",
    "    loss_eval, _ = session.run((loss, optimizer), \n",
    "                               feed_dict={x_seq_ph: x_seq[:,:-1], \n",
    "                                          y_seq_ph: x_seq[:,1:]})\n",
    "\n",
    "    if not (step % 100): print loss_eval"
   ]
  },
  {
   "cell_type": "code",
   "execution_count": 10,
   "metadata": {},
   "outputs": [
    {
     "name": "stdout",
     "output_type": "stream",
     "text": [
      "[u'AR_p_model/kernel:0', u'AR_p_model/kernel/RMSProp:0', u'AR_p_model/kernel/RMSProp_1:0']\n"
     ]
    }
   ],
   "source": [
    "variables = tf.get_collection(tf.GraphKeys.GLOBAL_VARIABLES, scope=\"AR_p_model\")\n",
    "\n",
    "print([v.name for v in variables])\n",
    "kernel = [v for v in variables if \"kernel\" in v.name.split('/')[-1]][0]\n",
    "\n",
    "kernel_eval = session.run(kernel)"
   ]
  },
  {
   "cell_type": "code",
   "execution_count": 11,
   "metadata": {},
   "outputs": [
    {
     "data": {
      "image/png": "[encoded data removed]",
      "text/plain": [
       "<matplotlib.figure.Figure at 0x10cb5b650>"
      ]
     },
     "metadata": {},
     "output_type": "display_data"
    }
   ],
   "source": [
    "plt.plot(kernel_eval[:,0,0])\n",
    "plt.title(\"Trained non causal kernel\")\n",
    "plt.ylabel(\"Kernel value\")\n",
    "plt.xlabel(\"Kernel component\")\n",
    "plt.show()"
   ]
  },
  {
   "cell_type": "code",
   "execution_count": null,
   "metadata": {
    "collapsed": true
   },
   "outputs": [],
   "source": []
  }
 ],
 "metadata": {
  "kernelspec": {
   "display_name": "Python 2",
   "language": "python",
   "name": "python2"
  },
  "language_info": {
   "codemirror_mode": {
    "name": "ipython",
    "version": 2
   },
   "file_extension": ".py",
   "mimetype": "text/x-python",
   "name": "python",
   "nbconvert_exporter": "python",
   "pygments_lexer": "ipython2",
   "version": "2.7.9"
  }
 },
 "nbformat": 4,
 "nbformat_minor": 1
}
